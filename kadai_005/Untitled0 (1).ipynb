{
  "nbformat": 4,
  "nbformat_minor": 0,
  "metadata": {
    "colab": {
      "provenance": [],
      "toc_visible": true
    },
    "kernelspec": {
      "name": "python3",
      "display_name": "Python 3"
    },
    "language_info": {
      "name": "python"
    }
  },
  "cells": [
    {
      "cell_type": "markdown",
      "source": [
        "# 新しいセクション"
      ],
      "metadata": {
        "id": "f7TY0HfL0q-S"
      }
    },
    {
      "cell_type": "markdown",
      "source": [
        "# 新しいセクション"
      ],
      "metadata": {
        "id": "mLXJSDys0yiy"
      }
    },
    {
      "cell_type": "code",
      "source": [
        "# 台形の寸法\n",
        "top = 10  # 上辺（cm）\n",
        "bottom = 20  # 下辺（cm）\n",
        "height = 5  # 高さ（cm）\n",
        "\n",
        "# 台形の面積を計算\n",
        "area = (top + bottom) * height / 2\n",
        "\n",
        "# 結果を表示\n",
        "print(f\"{area}cm²\")\n"
      ],
      "metadata": {
        "colab": {
          "base_uri": "https://localhost:8080/"
        },
        "id": "_LIX2UDcxdgy",
        "outputId": "9734d6f2-77c0-4761-b7cc-5a960cbf1d35"
      },
      "execution_count": null,
      "outputs": [
        {
          "output_type": "stream",
          "name": "stdout",
          "text": [
            "75.0cm²\n"
          ]
        }
      ]
    }
  ]
}